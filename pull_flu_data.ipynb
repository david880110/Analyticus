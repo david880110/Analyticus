{
 "cells": [
  {
   "cell_type": "markdown",
   "metadata": {},
   "source": [
    "<p>Class:  USC Viterbi Data Analytics Bootcamp</p>\n",
    "<p>Team:  Analyticus (aka Team 5)</p>\n",
    "<p>Module:  pull_flu_data.py<p>\n",
    "<p>Input:  CDC Influenza-Like-Illness CSV File</p>\n",
    "<p>Output:  cdc.json\n",
    "<p>Description:\n",
    "<ul>\n",
    "<li>Load pandas.DataFrame from cdc.csv file.</li>\n",
    "<li>Format json string by looping through the DataFrame</li>\n",
    "<li>Write json string to cdc.json</li>\n",
    "</ul>"
   ]
  },
  {
   "cell_type": "code",
   "execution_count": 1,
   "metadata": {
    "collapsed": true
   },
   "outputs": [],
   "source": [
    "# Import dependances.\n",
    "import json\n",
    "import csv\n",
    "import pandas as pd"
   ]
  },
  {
   "cell_type": "code",
   "execution_count": 2,
   "metadata": {},
   "outputs": [],
   "source": [
    "# Load pandas.Dataframe from cdc.csv.\n",
    "df = pd.read_csv('cdc.csv')"
   ]
  },
  {
   "cell_type": "code",
   "execution_count": 3,
   "metadata": {},
   "outputs": [],
   "source": [
    "# Inspect dataframe\n",
    "# df.head()"
   ]
  },
  {
   "cell_type": "code",
   "execution_count": 4,
   "metadata": {},
   "outputs": [],
   "source": [
    "# Build a dict from the dataframe.\n",
    "cases_dict = {}\n",
    "for i in list(df.index):\n",
    "    case_dict = {}\n",
    "    case_dict[\"cases\"] = df.loc[i,'Cases']\n",
    "    case_dict[\"year\"] = df.loc[i,'Year']\n",
    "    case_dict[\"state\"] = df.loc[i,'State']\n",
    "    case_dict[\"week\"] = df.loc[i,'Week']\n",
    "    cases_dict[str(i)] = case_dict"
   ]
  },
  {
   "cell_type": "code",
   "execution_count": 5,
   "metadata": {},
   "outputs": [],
   "source": [
    "# Format string to be suitable for a json file.\n",
    "cases_str = str(cases_dict)\n",
    "cases_str = cases_str.replace(\"'\", '\"')"
   ]
  },
  {
   "cell_type": "code",
   "execution_count": 6,
   "metadata": {},
   "outputs": [],
   "source": [
    "# Inspect resulting string.\n",
    "# cases_str"
   ]
  },
  {
   "cell_type": "code",
   "execution_count": 7,
   "metadata": {},
   "outputs": [],
   "source": [
    "# Write string to cdc.json\n",
    "with open('cdc.json', 'w') as f:\n",
    "    f.write(cases_str)"
   ]
  }
 ],
 "metadata": {
  "kernelspec": {
   "display_name": "Python 3",
   "language": "python",
   "name": "python3"
  },
  "language_info": {
   "codemirror_mode": {
    "name": "ipython",
    "version": 3
   },
   "file_extension": ".py",
   "mimetype": "text/x-python",
   "name": "python",
   "nbconvert_exporter": "python",
   "pygments_lexer": "ipython3",
   "version": "3.6.3"
  }
 },
 "nbformat": 4,
 "nbformat_minor": 2
}
